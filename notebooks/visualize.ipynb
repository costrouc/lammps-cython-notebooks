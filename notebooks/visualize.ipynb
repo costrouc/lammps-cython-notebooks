{
 "cells": [
  {
   "cell_type": "code",
   "execution_count": 56,
   "metadata": {},
   "outputs": [],
   "source": [
    "import pandas as pd\n",
    "import numpy as np\n",
    "import ipyvolume.pylab as p3\n",
    "import pymatgen as pmg\n",
    "\n",
    "import lammps"
   ]
  },
  {
   "cell_type": "code",
   "execution_count": 60,
   "metadata": {},
   "outputs": [
    {
     "data": {
      "text/plain": [
       "'fix'"
      ]
     },
     "execution_count": 60,
     "metadata": {},
     "output_type": "execute_result"
    }
   ],
   "source": [
    "a = 4.2\n",
    "alpha = 90\n",
    "symbols = ['Mg', 'O']\n",
    "positions = [(0, 0, 0), (0.5, 0.5, 0.5)]\n",
    "supercell = (3, 3, 3)\n",
    "lattice = pmg.Lattice.from_parameters(a, a, a, alpha, alpha, alpha)\n",
    "structure = pmg.Structure.from_spacegroup(225, lattice, symbols, positions) * supercell\n",
    "\n",
    "lmp = lammps.Lammps(units='metal', style='full')\n",
    "elements = lmp.system.add_pymatgen_structure(structure)\n",
    "elements = [_.symbol for _ in elements]\n",
    "\n",
    "charges = {\n",
    "    'Mg': 2,\n",
    "    'O': -2\n",
    "}\n",
    "potential = {\n",
    "    ('Mg', 'Mg'): [1309362.2766468062, 0.104, 0.0],\n",
    "    ('Mg', 'O'): [9892.357, 0.20199, 0.0],\n",
    "    ('O', 'O'): [2145.7345, 0.3, 30.2222]\n",
    "}\n",
    "\n",
    "lmp.command('velocity all create 3.0 100')\n",
    "lmp.command('kspace_style pppm 1.0e-4')\n",
    "lmp.command('pair_style buck/coul/long 10.0')\n",
    "\n",
    "# set buck\n",
    "for p, coeffs in potential.items():\n",
    "    ij = ' '.join([str(_ + 1) for _ in sorted([elements.index(p[0]), elements.index(p[1])])])\n",
    "    coeffs = ' '.join([str(_) for _ in coeffs])\n",
    "    lmp.command('pair_coeff {} {}'.format(ij, coeffs))\n",
    "\n",
    "# set charge\n",
    "for e, charge in charges.items():\n",
    "    lmp.command('set atom {} charge {}'.format(elements.index(e) + 1, charge))\n",
    "\n",
    "lmp.command('fix 1 all nve')"
   ]
  },
  {
   "cell_type": "code",
   "execution_count": 61,
   "metadata": {},
   "outputs": [],
   "source": [
    "positions = []\n",
    "atom_types = []\n",
    "N = 100\n",
    "for i in range(N):\n",
    "    lmp.run(5)\n",
    "    positions.append(lmp.system.positions.copy())\n",
    "    atom_types.append(lmp.system.types.copy())\n",
    "    \n",
    "positions = np.array(positions).reshape(N, lmp.system.total, 3)\n",
    "x = positions[:, :, 0]\n",
    "y = positions[:, :, 1]\n",
    "z = positions[:, :, 2]\n",
    "\n",
    "size = np.array(atom_types).reshape(N, lmp.system.total).astype(float)\n",
    "\n",
    "color_array  = np.array([\n",
    "    (103, 169, 207),\n",
    "    (239, 138, 98)\n",
    "]) / 256\n",
    "color = color_array[np.array(atom_types).reshape(N, lmp.system.total)  - 1]"
   ]
  },
  {
   "cell_type": "code",
   "execution_count": 64,
   "metadata": {},
   "outputs": [
    {
     "data": {
      "application/vnd.jupyter.widget-view+json": {
       "model_id": "1256fe601ffb447a9113e05efe5195b4",
       "version_major": 2,
       "version_minor": 0
      },
      "text/plain": [
       "VBox(children=(Figure(animation=200.0, animation_exponent=1.0, camera_center=[0.0, 0.0, 0.0], height=500, matr…"
      ]
     },
     "metadata": {},
     "output_type": "display_data"
    }
   ],
   "source": [
    "p3.figure()\n",
    "s = p3.scatter(x, y, z, color=color, size=size, marker=\"sphere\")\n",
    "p3.xyzlim(1, supercell[0] * a - 1)\n",
    "p3.animation_control(s) # shows controls for animation controls\n",
    "p3.show()"
   ]
  },
  {
   "cell_type": "code",
   "execution_count": null,
   "metadata": {},
   "outputs": [],
   "source": []
  }
 ],
 "metadata": {
  "kernelspec": {
   "display_name": "Python 3",
   "language": "python",
   "name": "python3"
  },
  "language_info": {
   "codemirror_mode": {
    "name": "ipython",
    "version": 3
   },
   "file_extension": ".py",
   "mimetype": "text/x-python",
   "name": "python",
   "nbconvert_exporter": "python",
   "pygments_lexer": "ipython3",
   "version": "3.6.5"
  }
 },
 "nbformat": 4,
 "nbformat_minor": 2
}
