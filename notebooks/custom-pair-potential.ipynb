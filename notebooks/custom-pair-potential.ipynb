{
 "cells": [
  {
   "cell_type": "code",
   "execution_count": 22,
   "metadata": {},
   "outputs": [],
   "source": [
    "import pymatgen as pmg\n",
    "from pymatgen.io.cif import CifParser\n",
    "from pymatgen.symmetry.analyzer import SpacegroupAnalyzer\n",
    "\n",
    "import lammps"
   ]
  },
  {
   "cell_type": "code",
   "execution_count": 3,
   "metadata": {},
   "outputs": [],
   "source": [
    "structure = CifParser('../data/structure/MgO.cif').get_structures()[0]\n",
    "structure.remove_oxidation_states()\n",
    "spga = SpacegroupAnalyzer(structure)\n",
    "conventional_structure = spga.get_conventional_standard_structure() * (5, 5, 5)"
   ]
  },
  {
   "cell_type": "code",
   "execution_count": 4,
   "metadata": {},
   "outputs": [
    {
     "name": "stdout",
     "output_type": "stream",
     "text": [
      "num atoms 1000\n"
     ]
    }
   ],
   "source": [
    "print('num atoms', len(conventional_structure))"
   ]
  },
  {
   "cell_type": "code",
   "execution_count": 23,
   "metadata": {},
   "outputs": [],
   "source": [
    "elements = pmg.Element('Mg'), pmg.Element('O') # specify index for each element\n",
    "mg, o = elements\n",
    "\n",
    "buckingham_potential_parameters = {\n",
    "    (mg, mg): [1309362.2766468062, 0.104, 0.0],\n",
    "    (mg, o): [9892.357, 0.20199, 0.0],\n",
    "    (o, o): [2145.7345, 0.3, 30.2222]\n",
    "}\n",
    "\n",
    "charges = {\n",
    "    mg: 1.4,\n",
    "    o: -1.4\n",
    "}"
   ]
  },
  {
   "cell_type": "code",
   "execution_count": 68,
   "metadata": {},
   "outputs": [],
   "source": [
    "import numpy as np\n",
    "import functools\n",
    "\n",
    "def buckingham_potential(r, A, p, C):\n",
    "    return A * np.exp(-r/p) - C / r**6"
   ]
  },
  {
   "cell_type": "code",
   "execution_count": 69,
   "metadata": {},
   "outputs": [
    {
     "data": {
      "text/plain": [
       "-2.393469340287367"
      ]
     },
     "execution_count": 69,
     "metadata": {},
     "output_type": "execute_result"
    }
   ],
   "source": [
    "f = functools.partial(buckingham_potential, A=1, p=2, C=3)\n",
    "f(1.0)"
   ]
  },
  {
   "cell_type": "code",
   "execution_count": 70,
   "metadata": {},
   "outputs": [],
   "source": [
    "def write_function_pair_potential(func, dfunc=None, bounds=(1.0, 10.0), samples=500, toll=1e-6, keyword='PAIR', filename='lammps.table'):\n",
    "    r_min, r_max = bounds\n",
    "    if dfunc is None:\n",
    "        dfunc = lambda r: (func(r+toll) - func(r-toll)) / (2*toll)\n",
    "\n",
    "    with open(filename, 'w') as f:\n",
    "        i = np.arange(1, n+1)\n",
    "        r = np.linspace(r_min, r_max, n)\n",
    "        forces = func(r)\n",
    "        energies = dfunc(r)\n",
    "        #lines = ('%d %f %f %f\\n' % (index, radius, force, energy) for index, radius, force, energy in zip(i, r, forces, energies))\n",
    "        f.write(\"%s\\nN %d\\n\\n\" % (keyword, samples) + ''.join('%d %f %f %f\\n' % (index, radius, force, energy) for index, radius, force, energy in zip(i, r, forces, energies)))\n"
   ]
  },
  {
   "cell_type": "code",
   "execution_count": 71,
   "metadata": {},
   "outputs": [
    {
     "name": "stdout",
     "output_type": "stream",
     "text": [
      "3.89 ms ± 199 µs per loop (mean ± std. dev. of 7 runs, 100 loops each)\n"
     ]
    }
   ],
   "source": [
    "%%timeit\n",
    "\n",
    "write_function_pair_potential(f)"
   ]
  },
  {
   "cell_type": "markdown",
   "metadata": {},
   "source": [
    "# Traditional pair/overlay approach"
   ]
  },
  {
   "cell_type": "code",
   "execution_count": 47,
   "metadata": {},
   "outputs": [],
   "source": [
    "lmp = lammps.Lammps(units='metal', style='full')\n",
    "elements = lmp.system.add_pymatgen_structure(conventional_structure, elements)\n",
    "\n",
    "lmp.command('kspace_style pppm 1e-6')\n",
    "for c in charges:\n",
    "    lmp.command('set atom %d charge %f' % (elements.index(c)+1, charges[c]))\n",
    "\n",
    "lmp.command('pair_style hybrid/overlay coul/long 10.0 buck 10.0')\n",
    "lmp.command('pair_coeff * * coul/long')\n",
    "for p in buckingham_potential_parameters:\n",
    "    lmp.command('pair_coeff %d %d buck %f %f %f' % (elements.index(p[0])+1, elements.index(p[1])+1, *buckingham_potential_parameters[p]))    "
   ]
  },
  {
   "cell_type": "code",
   "execution_count": 48,
   "metadata": {},
   "outputs": [
    {
     "name": "stdout",
     "output_type": "stream",
     "text": [
      "58.2 ms ± 495 µs per loop (mean ± std. dev. of 7 runs, 10 loops each)\n"
     ]
    }
   ],
   "source": [
    "%%timeit\n",
    "\n",
    "lmp.run(0)"
   ]
  },
  {
   "cell_type": "code",
   "execution_count": 28,
   "metadata": {},
   "outputs": [
    {
     "name": "stdout",
     "output_type": "stream",
     "text": [
      "potential energy 1022.4233073482385\n",
      "temperature 0.0\n",
      "pressure [ 6.43097404e+05  6.43097404e+05  6.41907177e+05  5.50050186e-10\n",
      " -1.87660923e-09 -1.99158064e-09]\n"
     ]
    }
   ],
   "source": [
    "print('potential energy', lmp.thermo.potential_energy.scalar)\n",
    "print('temperature', lmp.thermo.temperature.scalar)\n",
    "print('pressure', lmp.thermo.pressure.vector)"
   ]
  },
  {
   "cell_type": "markdown",
   "metadata": {},
   "source": [
    "# pair/overlay + pair table"
   ]
  },
  {
   "cell_type": "code",
   "execution_count": 73,
   "metadata": {},
   "outputs": [],
   "source": [
    "lmp = lammps.Lammps(units='metal', style='full')\n",
    "elements = lmp.system.add_pymatgen_structure(conventional_structure, elements)\n",
    "\n",
    "lmp.command('kspace_style pppm 1e-6')\n",
    "for c in charges:\n",
    "    lmp.command('set atom %d charge %f' % (elements.index(c)+1, charges[c]))\n",
    "\n",
    "samples = 2000\n",
    "lmp.command('pair_style hybrid/overlay coul/long 10.0 table linear %d' % n)\n",
    "lmp.command('pair_coeff * * coul/long')\n",
    "for p in buckingham_potential_parameters:\n",
    "    params = buckingham_potential_parameters[p]\n",
    "    keyword = 'PAIR'\n",
    "    filename = filename='%s-%s.table' % (p[0].symbol, p[1].symbol)\n",
    "    f = functools.partial(buckingham_potential, A=params[0], p=params[1], C=params[2])\n",
    "    write_function_pair_potential(f, filename=filename, keyword=keyword, samples=samples)\n",
    "    lmp.command('pair_coeff %d %d table %s %s' % (elements.index(p[0])+1, elements.index(p[1])+1, filename, keyword))"
   ]
  },
  {
   "cell_type": "code",
   "execution_count": 74,
   "metadata": {},
   "outputs": [
    {
     "name": "stdout",
     "output_type": "stream",
     "text": [
      "52 ms ± 895 µs per loop (mean ± std. dev. of 7 runs, 10 loops each)\n"
     ]
    }
   ],
   "source": [
    "%%timeit\n",
    "\n",
    "lmp.run(0)"
   ]
  },
  {
   "cell_type": "code",
   "execution_count": 75,
   "metadata": {},
   "outputs": [
    {
     "name": "stdout",
     "output_type": "stream",
     "text": [
      "potential energy 1022.8495475347404\n",
      "temperature 0.0\n",
      "pressure [-6.43378919e+05 -6.43378919e+05 -6.44569145e+05 -2.63779993e-10\n",
      "  2.12794654e-09  2.02697490e-09]\n"
     ]
    }
   ],
   "source": [
    "print('potential energy', lmp.thermo.potential_energy.scalar)\n",
    "print('temperature', lmp.thermo.temperature.scalar)\n",
    "print('pressure', lmp.thermo.pressure.vector)"
   ]
  },
  {
   "cell_type": "code",
   "execution_count": null,
   "metadata": {},
   "outputs": [],
   "source": []
  }
 ],
 "metadata": {
  "kernelspec": {
   "display_name": "Python 3",
   "language": "python",
   "name": "python3"
  },
  "language_info": {
   "codemirror_mode": {
    "name": "ipython",
    "version": 3
   },
   "file_extension": ".py",
   "mimetype": "text/x-python",
   "name": "python",
   "nbconvert_exporter": "python",
   "pygments_lexer": "ipython3",
   "version": "3.6.5"
  }
 },
 "nbformat": 4,
 "nbformat_minor": 2
}
