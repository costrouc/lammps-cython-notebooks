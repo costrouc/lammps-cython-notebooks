{
 "cells": [
  {
   "cell_type": "code",
   "execution_count": 55,
   "metadata": {},
   "outputs": [],
   "source": [
    "import math\n",
    "import random\n",
    "\n",
    "import pymatgen as pmg\n",
    "import numpy as np\n",
    "\n",
    "import lammps"
   ]
  },
  {
   "cell_type": "code",
   "execution_count": 56,
   "metadata": {},
   "outputs": [],
   "source": [
    "a = 4.2\n",
    "alpha = 90\n",
    "lattice = pmg.Lattice.from_parameters(a, a, a, alpha, alpha, alpha)\n",
    "symbols = ['Mg', 'Mg', 'Mg', 'Mg', 'O', 'O', 'O', 'O']\n",
    "positions = np.array([\n",
    "    (0, 0, 0), (2.1, 2.1, 0), (2.1, 0, 2.1), (0, 2.1, 2.1), # Mg\n",
    "    (2.1, 0, 0), (0, 2.1, 0), (0, 0, 2.1), (2.1, 2.1, 2.1)  # O\n",
    "]).reshape(-1, 3)\n",
    "\n",
    "structure = pmg.Structure(lattice, symbols, positions, coords_are_cartesian=True)"
   ]
  },
  {
   "cell_type": "code",
   "execution_count": 57,
   "metadata": {},
   "outputs": [
    {
     "data": {
      "text/plain": [
       "[Element Mg, Element O]"
      ]
     },
     "execution_count": 57,
     "metadata": {},
     "output_type": "execute_result"
    }
   ],
   "source": [
    "# to make a fair speed comparison lets precompute some values\n",
    "elements = [pmg.Element(symbol) for symbol in set(symbols)]\n",
    "elements"
   ]
  },
  {
   "cell_type": "code",
   "execution_count": 58,
   "metadata": {},
   "outputs": [
    {
     "data": {
      "text/plain": [
       "Structure Summary\n",
       "Lattice\n",
       "    abc : 4.2 4.2 4.2\n",
       " angles : 90.0 90.0 90.0\n",
       " volume : 74.08800000000001\n",
       "      A : 4.2 0.0 2.571758278209442e-16\n",
       "      B : 6.754115128641874e-16 4.2 2.571758278209442e-16\n",
       "      C : 0.0 0.0 4.2\n",
       "PeriodicSite: Mg (0.0000, 0.0000, 0.0000) [0.0000, 0.0000, 0.0000]\n",
       "PeriodicSite: Mg (2.1000, 2.1000, 0.0000) [0.5000, 0.5000, -0.0000]\n",
       "PeriodicSite: Mg (2.1000, 0.0000, 2.1000) [0.5000, 0.0000, 0.5000]\n",
       "PeriodicSite: Mg (0.0000, 2.1000, 2.1000) [-0.0000, 0.5000, 0.5000]\n",
       "PeriodicSite: O (2.1000, 0.0000, 0.0000) [0.5000, 0.0000, -0.0000]\n",
       "PeriodicSite: O (0.0000, 2.1000, 0.0000) [-0.0000, 0.5000, -0.0000]\n",
       "PeriodicSite: O (0.0000, 0.0000, 2.1000) [0.0000, 0.0000, 0.5000]\n",
       "PeriodicSite: O (2.1000, 2.1000, 2.1000) [0.5000, 0.5000, 0.5000]"
      ]
     },
     "execution_count": 58,
     "metadata": {},
     "output_type": "execute_result"
    }
   ],
   "source": [
    "structure"
   ]
  },
  {
   "cell_type": "code",
   "execution_count": 59,
   "metadata": {},
   "outputs": [
    {
     "name": "stdout",
     "output_type": "stream",
     "text": [
      "115 µs ± 1.26 µs per loop (mean ± std. dev. of 7 runs, 10000 loops each)\n"
     ]
    }
   ],
   "source": [
    "%%timeit\n",
    "lmp = lammps.Lammps()"
   ]
  },
  {
   "cell_type": "code",
   "execution_count": 60,
   "metadata": {},
   "outputs": [],
   "source": [
    "def initialize_lammps(structure, elements, atom_types):\n",
    "    lmp = lammps.Lammps(units='metal', args=[\n",
    "        '-log', 'none',\n",
    "        '-screen', 'none'\n",
    "    ])\n",
    "    lmp.command('atom_modify map yes id yes sort 10000 5.0')\n",
    "    \n",
    "    # set unit cell\n",
    "    lmp.box.from_lattice_const(len(elements), \n",
    "                               np.array(structure.lattice.abc), \n",
    "                               np.array(structure.lattice.angles) * (math.pi/180))\n",
    "    \n",
    "    # set element mass\n",
    "    for element, atom_type in zip(elements, lmp.system.atom_types):\n",
    "        atom_type.mass = element.atomic_mass\n",
    "    \n",
    "    velocities = structure.site_properties.get('velocities')\n",
    "    lmp.system.create_atoms(atom_types, structure.cart_coords+1e-8, velocities)\n",
    "    \n",
    "    script = \"\"\"\n",
    "    pair_style  buck 10\n",
    "    pair_coeff 1 1 1309362.2766468062 0.104 0.0\n",
    "    pair_coeff 1 2 9892.357 0.20199 0.0\n",
    "    pair_coeff 2 2 2145.7345 0.3 30.2222\n",
    "    \n",
    "    fix 1 all nve\n",
    "    \"\"\"\n",
    "    for line in script.split('\\n'):\n",
    "        lmp.command(line)\n",
    "    return lmp"
   ]
  },
  {
   "cell_type": "markdown",
   "metadata": {},
   "source": [
    "# Lets test system constuction time from scratch\n",
    "\n",
    "It linearly scales with the number of atoms. Majority amount of time is in setup. If you can avoid setting up each time the simluations will take very little time.\n",
    "\n",
    " - (1, 1, 1)     8 atoms - 333 us\n",
    " - (2, 2, 2)    64 atoms - 536 us\n",
    " - (3, 3, 3)   216 atoms -   1 ms\n",
    " - (4, 4, 4)   512 atoms -   2 ms\n",
    " - (5, 5, 5)  1000 atoms -   4 ms\n",
    " - (10,10,10) 8000 atoms -  32 ms\n",
    " - (20,20,20)64000 atoms - 261 ms"
   ]
  },
  {
   "cell_type": "code",
   "execution_count": 61,
   "metadata": {},
   "outputs": [],
   "source": [
    "supercell_structure = structure * (20, 20, 20)\n",
    "atom_types = np.array([elements.index(atom.specie)+1 for atom in supercell_structure], dtype=np.intc)"
   ]
  },
  {
   "cell_type": "code",
   "execution_count": 62,
   "metadata": {},
   "outputs": [
    {
     "name": "stdout",
     "output_type": "stream",
     "text": [
      "258 ms ± 11.5 ms per loop (mean ± std. dev. of 7 runs, 1 loop each)\n"
     ]
    }
   ],
   "source": [
    "%%timeit\n",
    "lmp = initialize_lammps(supercell_structure, elements, atom_types)"
   ]
  },
  {
   "cell_type": "markdown",
   "metadata": {},
   "source": [
    "# How long does a run with 0 steps take\n",
    "\n",
    "Could be a little less than twice as long. Seconds tests with laptop unplugged yielded different results.\n",
    "\n",
    " - (1, 1, 1)     8 atoms - 246 us\n",
    " - (2, 2, 2)    64 atoms -   1 ms\n",
    " - (3, 3, 3)   216 atoms -   4 ms\n",
    " - (4, 4, 4)   512 atoms -  12 ms\n",
    " - (5, 5, 5)  1000 atoms -  20 ms\n",
    " - (10,10,10) 8000 atoms - 162 ms\n",
    " - (20,20,20)64000 atoms -  1.5 s"
   ]
  },
  {
   "cell_type": "code",
   "execution_count": 65,
   "metadata": {},
   "outputs": [],
   "source": [
    "supercell_structure = structure * (10, 10, 10)\n",
    "atom_types = np.array([elements.index(atom.specie)+1 for atom in supercell_structure], dtype=np.intc)\n",
    "lmp = initialize_lammps(supercell_structure, elements, atom_types)"
   ]
  },
  {
   "cell_type": "code",
   "execution_count": 66,
   "metadata": {},
   "outputs": [
    {
     "name": "stdout",
     "output_type": "stream",
     "text": [
      "299 ms ± 11.7 ms per loop (mean ± std. dev. of 7 runs, 1 loop each)\n"
     ]
    }
   ],
   "source": [
    "%%timeit\n",
    "lmp.run(0)"
   ]
  },
  {
   "cell_type": "markdown",
   "metadata": {},
   "source": [
    "# How long does it take to get the forces from simluation\n",
    "\n",
    " - (1, 1, 1)     8 atoms -   3 us\n",
    " - (2, 2, 2)    64 atoms -   4 us\n",
    " - (3, 3, 3)   216 atoms -   4 us\n",
    " - (4, 4, 4)   512 atoms -   4 us\n",
    " - (5, 5, 5)  1000 atoms -   5 us\n",
    " - (10,10,10) 8000 atoms -  22 us\n",
    " - (20,20,20)64000 atoms - 160 us\n",
    "\n",
    "even with the largest system of 64000 atoms it is negligible `157 us`. smallest 8 atoms `3 us`"
   ]
  },
  {
   "cell_type": "code",
   "execution_count": 67,
   "metadata": {},
   "outputs": [],
   "source": [
    "supercell_structure = structure * (20, 20, 20)\n",
    "atom_types = np.array([elements.index(atom.specie) for atom in supercell_structure], dtype=np.intc)\n",
    "lmp = initialize_lammps(supercell_structure, elements, atom_types)\n",
    "lmp.run(0)"
   ]
  },
  {
   "cell_type": "code",
   "execution_count": 68,
   "metadata": {},
   "outputs": [
    {
     "name": "stdout",
     "output_type": "stream",
     "text": [
      "730 µs ± 52.1 µs per loop (mean ± std. dev. of 7 runs, 1000 loops each)\n"
     ]
    }
   ],
   "source": [
    "%%timeit\n",
    "lmp.system.forces"
   ]
  },
  {
   "cell_type": "markdown",
   "metadata": {},
   "source": [
    "# Benchmark to reflect DFTFIT workflow\n",
    "\n",
    "Problem: (1, 1, 1) 64 atoms - buckingham potential\n",
    "\n",
    " - using `subprocess` - 205.151 ms (5 per second) 1X\n",
    " - using `pymatgen-lammps` - 6.8 ms (147 per second) 30X\n",
    " - using `lammps-cython` - 295 us (3389 per second) 690X\n",
    " \n",
    "More Realistic Problem: (2, 2, 2) 64 atoms - buckingham potential\n",
    "\n",
    " - using `lammps-cython` - 1.55 ms\n",
    " \n",
    "What does this mean? Means that calculations that took 20 hours will now take 50 minutes."
   ]
  },
  {
   "cell_type": "code",
   "execution_count": 72,
   "metadata": {},
   "outputs": [],
   "source": [
    "def initialize_lammps(structure, elements, atom_types):\n",
    "    lmp = lammps.Lammps(units='metal', args=[\n",
    "        '-log', 'none',\n",
    "        '-screen', 'none'\n",
    "    ])\n",
    "    lmp.command('atom_modify map yes id yes sort 10000 5.0')\n",
    "    \n",
    "    # set unit cell\n",
    "    lmp.box.from_lattice_const(len(elements), \n",
    "                               np.array(structure.lattice.abc), \n",
    "                               np.array(structure.lattice.angles) * (math.pi/180))\n",
    "    \n",
    "    # set element mass\n",
    "    for element, atom_type in zip(elements, lmp.system.atom_types):\n",
    "        atom_type.mass = element.atomic_mass\n",
    "    \n",
    "    velocities = structure.site_properties.get('velocities')\n",
    "    lmp.system.create_atoms(atom_types, structure.cart_coords+1e-8, velocities)\n",
    "    \n",
    "    lmp.thermo.add('my_ke', 'ke', 'all')\n",
    "    \n",
    "    return lmp\n",
    "\n",
    "def mimic_dftfit_algo(lmp):\n",
    "    # update potential\n",
    "    script = \"\"\"\n",
    "    pair_style  buck 10\n",
    "    pair_coeff 1 1 1309362.2766468062 0.104 0.0\n",
    "    pair_coeff 1 2 {} 0.20199 0.0\n",
    "    pair_coeff 2 2 2145.7345 0.3 {}\n",
    "    \"\"\"\n",
    "    a_2 = random.uniform(9000, 11000)\n",
    "    c_3 = random.uniform(20, 40)\n",
    "    for line in script.format(a_2, c_3).split('\\n'):\n",
    "        lmp.command(line)\n",
    "        \n",
    "    # Run static calculations\n",
    "    lmp.run(0)\n",
    "    \n",
    "    # Get Forces, Energy, and Stresses\n",
    "    S = lmp.thermo.computes['thermo_press'].vector\n",
    "    values = {\n",
    "        'forces': lmp.system.forces.copy(),\n",
    "        'energy': lmp.thermo.computes['thermo_pe'].scalar + lmp.thermo.computes['my_ke'].scalar,\n",
    "        'stress': np.array([\n",
    "            [S[0], S[3], S[5]],\n",
    "            [S[3], S[1], S[4]],\n",
    "            [S[5], S[4], S[2]]\n",
    "        ])\n",
    "    }"
   ]
  },
  {
   "cell_type": "code",
   "execution_count": 73,
   "metadata": {},
   "outputs": [],
   "source": [
    "supercell_structure = structure * (1, 1, 1)\n",
    "atom_types = np.array([elements.index(atom.specie) for atom in supercell_structure], dtype=np.intc)\n",
    "lmp = initialize_lammps(supercell_structure, elements, atom_types)"
   ]
  },
  {
   "cell_type": "code",
   "execution_count": 74,
   "metadata": {},
   "outputs": [
    {
     "name": "stdout",
     "output_type": "stream",
     "text": [
      "295 µs ± 5 µs per loop (mean ± std. dev. of 7 runs, 1000 loops each)\n"
     ]
    }
   ],
   "source": [
    "%%timeit\n",
    "mimic_dftfit_algo(lmp)"
   ]
  },
  {
   "cell_type": "code",
   "execution_count": null,
   "metadata": {},
   "outputs": [],
   "source": []
  }
 ],
 "metadata": {
  "kernelspec": {
   "display_name": "lammps-cython",
   "language": "python",
   "name": "lammps-cython"
  },
  "language_info": {
   "codemirror_mode": {
    "name": "ipython",
    "version": 3
   },
   "file_extension": ".py",
   "mimetype": "text/x-python",
   "name": "python",
   "nbconvert_exporter": "python",
   "pygments_lexer": "ipython3",
   "version": "3.6.5"
  }
 },
 "nbformat": 4,
 "nbformat_minor": 2
}
