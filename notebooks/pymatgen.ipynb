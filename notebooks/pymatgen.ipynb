{
 "cells": [
  {
   "cell_type": "markdown",
   "metadata": {},
   "source": [
    "# Running Lammps simulations with Pymatgen\n",
    "\n",
    "Notice the easy lammps-cython interface for adding pymatgen structures.\n",
    "\n",
    "Here I wanted to investigate if there is any difference between `buck/coul/long` and `buck` + `coul/long` and no there is no difference."
   ]
  },
  {
   "cell_type": "code",
   "execution_count": 1,
   "metadata": {},
   "outputs": [],
   "source": [
    "import pymatgen as pmg\n",
    "from pymatgen.io.cif import CifParser\n",
    "from pymatgen.symmetry.analyzer import SpacegroupAnalyzer\n",
    "\n",
    "import lammps"
   ]
  },
  {
   "cell_type": "code",
   "execution_count": 2,
   "metadata": {},
   "outputs": [],
   "source": [
    "structure = CifParser('../data/structure/MgO.cif').get_structures()[0]\n",
    "structure.remove_oxidation_states()\n",
    "spga = SpacegroupAnalyzer(structure)\n",
    "conventional_structure = spga.get_conventional_standard_structure() * (5, 5, 5)"
   ]
  },
  {
   "cell_type": "code",
   "execution_count": 3,
   "metadata": {},
   "outputs": [
    {
     "name": "stdout",
     "output_type": "stream",
     "text": [
      "num atoms 1000\n"
     ]
    }
   ],
   "source": [
    "print('num atoms', len(conventional_structure))"
   ]
  },
  {
   "cell_type": "code",
   "execution_count": 4,
   "metadata": {},
   "outputs": [],
   "source": [
    "elements = pmg.Element('Mg'), pmg.Element('O') # specify index for each element\n",
    "mg, o = elements\n",
    "\n",
    "buckingham_potential = {\n",
    "    (mg, mg): [1309362.2766468062, 0.104, 0.0],\n",
    "    (mg, o): [9892.357, 0.20199, 0.0],\n",
    "    (o, o): [2145.7345, 0.3, 30.2222]\n",
    "}\n",
    "\n",
    "charges = {\n",
    "    mg: 1.4,\n",
    "    o: -1.4\n",
    "}"
   ]
  },
  {
   "cell_type": "code",
   "execution_count": 5,
   "metadata": {},
   "outputs": [],
   "source": [
    "lmp = lammps.Lammps(units='metal', style='full')\n",
    "elements = lmp.system.add_pymatgen_structure(conventional_structure, elements)\n",
    "\n",
    "lmp.command('kspace_style pppm 1e-6')\n",
    "for c in charges:\n",
    "    lmp.command('set atom %d charge %f' % (elements.index(c)+1, charges[c]))\n",
    "\n",
    "lmp.command('pair_style buck/coul/long 10.0 10.0')\n",
    "for p in buckingham_potential:\n",
    "    lmp.command('pair_coeff %d %d %f %f %f' % (elements.index(p[0])+1, elements.index(p[1])+1, *buckingham_potential[p]))"
   ]
  },
  {
   "cell_type": "code",
   "execution_count": 6,
   "metadata": {},
   "outputs": [
    {
     "name": "stdout",
     "output_type": "stream",
     "text": [
      "49.2 ms ± 859 µs per loop (mean ± std. dev. of 7 runs, 10 loops each)\n"
     ]
    }
   ],
   "source": [
    "%%timeit\n",
    "\n",
    "lmp.run(0)"
   ]
  },
  {
   "cell_type": "code",
   "execution_count": 7,
   "metadata": {},
   "outputs": [
    {
     "name": "stdout",
     "output_type": "stream",
     "text": [
      "potential energy 1022.4233073482385\n",
      "temperature 0.0\n",
      "pressure [ 6.43097404e+05  6.43097404e+05  6.41907177e+05  5.50050186e-10\n",
      " -1.87660923e-09 -1.99158064e-09]\n"
     ]
    }
   ],
   "source": [
    "print('potential energy', lmp.thermo.potential_energy.scalar)\n",
    "print('temperature', lmp.thermo.temperature.scalar)\n",
    "print('pressure', lmp.thermo.pressure.vector)"
   ]
  },
  {
   "cell_type": "code",
   "execution_count": 8,
   "metadata": {},
   "outputs": [],
   "source": [
    "lmp = lammps.Lammps(units='metal', style='full')\n",
    "elements = lmp.system.add_pymatgen_structure(conventional_structure, elements)\n",
    "\n",
    "lmp.command('kspace_style pppm 1e-6')\n",
    "for c in charges:\n",
    "    lmp.command('set atom %d charge %f' % (elements.index(c)+1, charges[c]))\n",
    "\n",
    "lmp.command('pair_style hybrid/overlay coul/long 10.0 buck 10.0')\n",
    "lmp.command('pair_coeff * * coul/long')\n",
    "for p in buckingham_potential:\n",
    "    lmp.command('pair_coeff %d %d buck %f %f %f' % (elements.index(p[0])+1, elements.index(p[1])+1, *buckingham_potential[p]))    "
   ]
  },
  {
   "cell_type": "code",
   "execution_count": 9,
   "metadata": {},
   "outputs": [
    {
     "name": "stdout",
     "output_type": "stream",
     "text": [
      "57.7 ms ± 393 µs per loop (mean ± std. dev. of 7 runs, 10 loops each)\n"
     ]
    }
   ],
   "source": [
    "%%timeit\n",
    "\n",
    "lmp.run(0)"
   ]
  },
  {
   "cell_type": "code",
   "execution_count": 10,
   "metadata": {},
   "outputs": [
    {
     "name": "stdout",
     "output_type": "stream",
     "text": [
      "potential energy 1022.4233073482385\n",
      "temperature 0.0\n",
      "pressure [ 6.43097404e+05  6.43097404e+05  6.41907177e+05  5.50050186e-10\n",
      " -1.87660923e-09 -1.99158064e-09]\n"
     ]
    }
   ],
   "source": [
    "print('potential energy', lmp.thermo.potential_energy.scalar)\n",
    "print('temperature', lmp.thermo.temperature.scalar)\n",
    "print('pressure', lmp.thermo.pressure.vector)"
   ]
  },
  {
   "cell_type": "code",
   "execution_count": null,
   "metadata": {},
   "outputs": [],
   "source": []
  }
 ],
 "metadata": {
  "kernelspec": {
   "display_name": "Python 3",
   "language": "python",
   "name": "python3"
  },
  "language_info": {
   "codemirror_mode": {
    "name": "ipython",
    "version": 3
   },
   "file_extension": ".py",
   "mimetype": "text/x-python",
   "name": "python",
   "nbconvert_exporter": "python",
   "pygments_lexer": "ipython3",
   "version": "3.6.5"
  }
 },
 "nbformat": 4,
 "nbformat_minor": 2
}
